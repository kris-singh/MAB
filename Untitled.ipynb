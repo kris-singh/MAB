{
 "cells": [
  {
   "cell_type": "code",
   "execution_count": 2,
   "metadata": {
    "collapsed": true
   },
   "outputs": [],
   "source": [
    "import numpy as np\n",
    "import matplotlib.pyplot as plt\n",
    "import warnings"
   ]
  },
  {
   "cell_type": "code",
   "execution_count": 11,
   "metadata": {
    "collapsed": true
   },
   "outputs": [],
   "source": [
    "# Epsilon Greedy: Todo Define Epsilon Greedy Here\n",
    "from epsilon_greedy import Epsilon_Greedy\n"
   ]
  },
  {
   "cell_type": "code",
   "execution_count": 58,
   "metadata": {
    "collapsed": false
   },
   "outputs": [],
   "source": [
    "data = './data/fivepercent.txt'\n",
    "unique = set();\n",
    "with open(data, 'r') as f:\n",
    "    data = f.read()\n",
    "    data = data.split('\\n')\n",
    "\n",
    "for i in data:\n",
    "    line = i.split('|')\n",
    "    article_yahoo_recommended = line[0].split(' ')[1]\n",
    "    article_yahoo_reward = line[0].split(' ')[2]\n",
    "    feature_vec = map(lambda x: x.split(':'), line[1].split(' ')[1:])\n",
    "    feature_vec = np.array([j[1] for j in feature_vec[:-1]])\n",
    "    feature_vec = feature_vec.reshape((6, 1))\n",
    "    user = feature_vec  # current user feature vector\n",
    "    article = {}\n",
    "    for k in line[2:len(line)-1]:\n",
    "        '''Calculating the article feature vectors'''\n",
    "        feature_vec = map(lambda x: x.split(':'), k.split(' ')[1:])\n",
    "        feature_vec = np.array([j[1] for j in feature_vec[:-1]])\n",
    "        if feature_vec.shape[0] != 6:\n",
    "            '''skip because of 109528 its length vector is 1'''\n",
    "            continue\n",
    "        feature_vec = feature_vec.reshape((6, 1))\n",
    "        unique.add(k.split(' ')[0]);\n",
    "        article[k.split(' ')[0]] = feature_vec\n",
    "\n",
    "    '''\n",
    "       computing for last article as some issues with splitting\n",
    "       last element has no [[]] element in the split\n",
    "       easy solution refine if time avails\n",
    "    '''\n",
    "    feature_vec = map(lambda x: x.split(':'), line[-1].split(' ')[1:])\n",
    "    feature_vec = np.array([j[1] for j in feature_vec])\n",
    "    if feature_vec.shape[0] != 6:\n",
    "        '''skip because of 109528 its length vector is 1'''\n",
    "        continue\n",
    "\n",
    "    feature_vec = feature_vec.reshape((6, 1))\n",
    "    article[line[-1].split(' ')[0]] = feature_vec\n",
    "    size = len(article.keys())\n",
    "    arms = np.array(article.keys())\n",
    "    # arms_features = np.hstack((arms_features, np.array(article.values())))\n",
    "    user_features = np.hstack((user_features, np.array(user)))"
   ]
  },
  {
   "cell_type": "code",
   "execution_count": 59,
   "metadata": {
    "collapsed": false
   },
   "outputs": [
    {
     "data": {
      "text/plain": [
       "{'109417',\n",
       " '109453',\n",
       " '109473',\n",
       " '109484',\n",
       " '109492',\n",
       " '109494',\n",
       " '109495',\n",
       " '109498',\n",
       " '109501',\n",
       " '109502',\n",
       " '109503',\n",
       " '109505',\n",
       " '109506',\n",
       " '109508',\n",
       " '109509',\n",
       " '109510',\n",
       " '109511',\n",
       " '109512',\n",
       " '109513',\n",
       " '109514',\n",
       " '109515',\n",
       " '109519',\n",
       " '109520',\n",
       " '109521',\n",
       " '109522',\n",
       " '109523',\n",
       " '109524',\n",
       " '109525',\n",
       " '109526',\n",
       " '109527',\n",
       " '109529',\n",
       " '109530',\n",
       " '109531',\n",
       " '109532',\n",
       " '109533',\n",
       " '109534',\n",
       " '109535',\n",
       " '109536',\n",
       " '109538',\n",
       " '109540',\n",
       " '109542',\n",
       " '109543',\n",
       " '109544',\n",
       " '109545',\n",
       " '109546',\n",
       " '109547',\n",
       " '109548',\n",
       " '109550',\n",
       " '109552'}"
      ]
     },
     "execution_count": 59,
     "metadata": {},
     "output_type": "execute_result"
    }
   ],
   "source": [
    "unique"
   ]
  }
 ],
 "metadata": {
  "kernelspec": {
   "display_name": "Python [conda root]",
   "language": "python",
   "name": "conda-root-py"
  },
  "language_info": {
   "codemirror_mode": {
    "name": "ipython",
    "version": 2
   },
   "file_extension": ".py",
   "mimetype": "text/x-python",
   "name": "python",
   "nbconvert_exporter": "python",
   "pygments_lexer": "ipython2",
   "version": "2.7.13"
  }
 },
 "nbformat": 4,
 "nbformat_minor": 2
}
